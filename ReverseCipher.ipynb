{
 "cells": [
  {
   "cell_type": "markdown",
   "metadata": {},
   "source": [
    "REVERSE CIPHER"
   ]
  },
  {
   "cell_type": "markdown",
   "metadata": {},
   "source": [
    "Encryption:"
   ]
  },
  {
   "cell_type": "code",
   "execution_count": 1,
   "metadata": {},
   "outputs": [
    {
     "name": "stdout",
     "output_type": "stream",
     "text": [
      "galf eht ma I\n"
     ]
    }
   ],
   "source": [
    "message = 'I am the flag'\n",
    "ciphertext=''\n",
    "i = len(message) - 1\n",
    "while i >= 0:\n",
    " ciphertext = ciphertext + message[i]\n",
    " i = i - 1\n",
    "print(ciphertext)"
   ]
  },
  {
   "cell_type": "markdown",
   "metadata": {},
   "source": [
    "Decryption:"
   ]
  },
  {
   "cell_type": "code",
   "execution_count": 2,
   "metadata": {},
   "outputs": [
    {
     "name": "stdout",
     "output_type": "stream",
     "text": [
      "I am the flag\n"
     ]
    }
   ],
   "source": [
    "ciphertext=input()\n",
    "i=len(ciphertext)-1\n",
    "message=''\n",
    "while i >= 0:\n",
    " message = message + ciphertext[i]\n",
    " i = i - 1\n",
    "print(message)"
   ]
  }
 ],
 "metadata": {
  "kernelspec": {
   "display_name": "Python 3",
   "language": "python",
   "name": "python3"
  },
  "language_info": {
   "codemirror_mode": {
    "name": "ipython",
    "version": 3
   },
   "file_extension": ".py",
   "mimetype": "text/x-python",
   "name": "python",
   "nbconvert_exporter": "python",
   "pygments_lexer": "ipython3",
   "version": "3.12.1"
  }
 },
 "nbformat": 4,
 "nbformat_minor": 2
}
